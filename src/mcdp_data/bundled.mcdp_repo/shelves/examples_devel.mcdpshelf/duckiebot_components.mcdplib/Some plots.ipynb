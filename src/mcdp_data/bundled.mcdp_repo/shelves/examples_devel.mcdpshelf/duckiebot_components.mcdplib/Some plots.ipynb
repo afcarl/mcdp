{
 "cells": [
  {
   "cell_type": "code",
   "execution_count": 4,
   "metadata": {
    "collapsed": false
   },
   "outputs": [
    {
     "data": {
      "text/plain": [
       "[<matplotlib.lines.Line2D at 0x103962990>]"
      ]
     },
     "execution_count": 4,
     "metadata": {},
     "output_type": "execute_result"
    },
    {
     "data": {
      "image/png": "[encoded data removed]",
      "text/plain": [
       "<matplotlib.figure.Figure at 0x114a1d0d0>"
      ]
     },
     "metadata": {},
     "output_type": "display_data"
    }
   ],
   "source": [
    "%matplotlib inline\n",
    "data=[\n",
    "    (0, 1),\n",
    "    (0.297, 6.05),\n",
    "    (0.674, 12.1),\n",
    "    (1.059, 18.15), \n",
    "    (1.424, 24.2),\n",
    "    (1.839, 30.25),\n",
    "    (2.172, 36.3),\n",
    "    (2.443, 42.35),\n",
    "]\n",
    "\n",
    "thrust = [_[0] for _ in data]\n",
    "power = [_[1] for _ in data]\n",
    "\n",
    "from matplotlib import pylab\n",
    "pylab.plot(thrust, power, 'x')\n",
    "\n",
    "\n",
    "\n",
    "\n",
    "\n"
   ]
  },
  {
   "cell_type": "code",
   "execution_count": null,
   "metadata": {
    "collapsed": true
   },
   "outputs": [],
   "source": []
  }
 ],
 "metadata": {
  "kernelspec": {
   "display_name": "Python 2",
   "language": "python",
   "name": "python2"
  },
  "language_info": {
   "codemirror_mode": {
    "name": "ipython",
    "version": 2
   },
   "file_extension": ".py",
   "mimetype": "text/x-python",
   "name": "python",
   "nbconvert_exporter": "python",
   "pygments_lexer": "ipython2",
   "version": "2.7.11"
  }
 },
 "nbformat": 4,
 "nbformat_minor": 0
}
