{
 "cells": [
  {
   "cell_type": "code",
   "execution_count": 1,
   "metadata": {
    "collapsed": false
   },
   "outputs": [
    {
     "name": "stderr",
     "output_type": "stream",
     "text": [
      "INFO:conf_tools:\u001b[32mloaded global config dir '..'\u001b[0m\n"
     ]
    }
   ],
   "source": [
    "# Setup\n",
    "from conf_tools import GlobalConfig\n",
    "GlobalConfig.global_load_dir(\"..\")\n",
    "# languages\n",
    "from mocdp.lang import parse\n"
   ]
  },
  {
   "cell_type": "markdown",
   "metadata": {},
   "source": [
    "This is an example of a model:"
   ]
  },
  {
   "cell_type": "code",
   "execution_count": 2,
   "metadata": {
    "collapsed": true
   },
   "outputs": [],
   "source": [
    "a = parse(\"\"\"\n",
    "cdp {\n",
    "        provides f [R]\n",
    "        requires z [R]\n",
    "        \n",
    "        hnlin = dp {\n",
    "            provides x [R]\n",
    "            requires r [R]\n",
    "            \n",
    "            implemented-by load SimpleNonlinearity1\n",
    "        }\n",
    "        \n",
    "        hnlin.x >= max(f, hnlin.r)\n",
    "        z >= hnlin.r \n",
    "        \n",
    "    }\n",
    "\"\"\")"
   ]
  },
  {
   "cell_type": "code",
   "execution_count": 3,
   "metadata": {
    "collapsed": false,
    "scrolled": false
   },
   "outputs": [
    {
     "name": "stdout",
     "output_type": "stream",
     "text": [
      "SimpleWrap\n",
      " provides          f (R) \n",
      " requires          z (R) \n",
      " requires        max (R) \n",
      "| DPLoop0:   R -> R×R\n",
      "| L Series:   R×(R×R) -> R×R\n",
      "| L S1 Mux(R×(R×R) → ((R×))×((R×)), [[(1, 1)], [0]])\n",
      "| L S2 Series:   ((R×))×((R×)) -> R×R\n",
      "| L S2 S1 Series:   ((R×))×((R×)) -> ((R×))×((R×))\n",
      "| L S2 S1 S1 Series:   ((R×))×((R×)) -> ((R×))×(R×R)\n",
      "| L S2 S1 S1 S1 Parallel:   ((R×))×((R×)) -> (R×R)×((R×))\n",
      "| L S2 S1 S1 S1 P1 Series:   (R×) -> R×R\n",
      "| L S2 S1 S1 S1 P1 S1 Mux((R×) → R, 0)\n",
      "| L S2 S1 S1 S1 P1 S2 Series:   R -> R×R\n",
      "| L S2 S1 S1 S1 P1 S2 S1 SimpleNonlinearity1(R→R)\n",
      "| L S2 S1 S1 S1 P1 S2 S2 Mux(R → R×R, [(), ()])\n",
      "| L S2 S1 S1 S1 P2 Id((R×))\n",
      "| L S2 S1 S1 S2 Mux((R×R)×((R×)) → ((R×))×(R×R), [[(0, 1)], [(1, 0), (0, 0)]])\n",
      "| L S2 S1 S2 Parallel:   ((R×))×(R×R) -> ((R×))×((R×))\n",
      "| L S2 S1 S2 P1 Id((R×))\n",
      "| L S2 S1 S2 P2 Series:   R×R -> (R×)\n",
      "| L S2 S1 S2 P2 S1 Max(R)\n",
      "| L S2 S1 S2 P2 S2 Mux(R → (R×), [()])\n",
      "| L S2 S2 Mux(((R×))×((R×)) → R×R, [(0, 0), (1, 0)])\n"
     ]
    }
   ],
   "source": [
    "print a.desc()"
   ]
  },
  {
   "cell_type": "code",
   "execution_count": null,
   "metadata": {
    "collapsed": true
   },
   "outputs": [],
   "source": []
  },
  {
   "cell_type": "code",
   "execution_count": 4,
   "metadata": {
    "collapsed": true
   },
   "outputs": [],
   "source": [
    "b = parse(\"\"\"\n",
    "    cdp {\n",
    "        provides mission_time  [s]\n",
    "        provides extra_payload [g]\n",
    "        \n",
    "        battery = dp {\n",
    "            provides capacity [J]\n",
    "            requires weight   [g]\n",
    "            \n",
    "            implemented-by load BatteryDP\n",
    "        }\n",
    "        \n",
    "        actuation = dp {\n",
    "            provides payload [g]\n",
    "            requires power   [W]\n",
    "            \n",
    "            implemented-by code mocdp.example_battery.Mobility\n",
    "        }\n",
    "                \n",
    "        capacity provided by battery >= mission_time * (power required by actuation)    \n",
    "        payload provided by actuation >= (weight of battery) + extra_payload\n",
    "    }\n",
    "\"\"\")"
   ]
  },
  {
   "cell_type": "code",
   "execution_count": 5,
   "metadata": {
    "collapsed": false
   },
   "outputs": [
    {
     "name": "stdout",
     "output_type": "stream",
     "text": [
      "SimpleWrap\n",
      " provides mission_time (R[s]) \n",
      " provides extra_payload (R[g]) \n",
      " requires     weight (R[g]) \n",
      "| DPLoop0:   R[s]×R[g] -> R[g]\n",
      "| L Series:   (R[s]×R[g])×R[g] -> R[g]\n",
      "| L S1 Mux((R[s]×R[g])×R[g] → (R[g]×R[g])×((R[s]×)), [[(0, 1), 1], [(0, 0)]])\n",
      "| L S2 Series:   (R[g]×R[g])×((R[s]×)) -> R[g]\n",
      "| L S2 S1 Series:   (R[g]×R[g])×((R[s]×)) -> R[J]\n",
      "| L S2 S1 S1 Series:   (R[g]×R[g])×((R[s]×)) -> R[s]×R[W]\n",
      "| L S2 S1 S1 S1 Parallel:   (R[g]×R[g])×((R[s]×)) -> ((R[W]×))×((R[s]×))\n",
      "| L S2 S1 S1 S1 P1 Series:   R[g]×R[g] -> (R[W]×)\n",
      "| L S2 S1 S1 S1 P1 S1 Series:   R[g]×R[g] -> R[W]\n",
      "| L S2 S1 S1 S1 P1 S1 S1 Series:   R[g]×R[g] -> R[g]\n",
      "| L S2 S1 S1 S1 P1 S1 S1 S1 Mux(R[g]×R[g] → R[g]×R[g], [1, 0])\n",
      "| L S2 S1 S1 S1 P1 S1 S1 S2 Sum(R[g])\n",
      "| L S2 S1 S1 S1 P1 S1 S2 Mobility(R[g]→R[W])\n",
      "| L S2 S1 S1 S1 P1 S2 Mux(R[W] → (R[W]×), [()])\n",
      "| L S2 S1 S1 S1 P2 Id((R[s]×))\n",
      "| L S2 S1 S1 S2 Mux(((R[W]×))×((R[s]×)) → R[s]×R[W], [(1, 0), (0, 0)])\n",
      "| L S2 S1 S2 Multiply(R[s]×R[W]→R[J])\n",
      "| L S2 S2 BatteryDP(R[J]→R[g])\n"
     ]
    }
   ],
   "source": [
    "print b.desc()"
   ]
  },
  {
   "cell_type": "code",
   "execution_count": 7,
   "metadata": {
    "collapsed": false
   },
   "outputs": [],
   "source": [
    "b = parse(\"\"\"\n",
    "    cdp {\n",
    "        provides x  [s]\n",
    "        provides y  [s]\n",
    "        requires z  [s]\n",
    "                \n",
    "        z >= max(x, y)\n",
    "    }\n",
    "\"\"\")"
   ]
  },
  {
   "cell_type": "code",
   "execution_count": 9,
   "metadata": {
    "collapsed": false
   },
   "outputs": [
    {
     "name": "stdout",
     "output_type": "stream",
     "text": [
      "SimpleWrap\n",
      " provides          y (R[s]) \n",
      " provides          x (R[s]) \n",
      " requires          z (R[s]) \n",
      "| Series:   R[s]×R[s] -> R[s]\n",
      "| S1 Mux(R[s]×R[s] → R[s]×R[s], [1, 0])\n",
      "| S2 Max(R[s])\n"
     ]
    }
   ],
   "source": [
    "print b.desc()"
   ]
  },
  {
   "cell_type": "code",
   "execution_count": null,
   "metadata": {
    "collapsed": true
   },
   "outputs": [],
   "source": []
  }
 ],
 "metadata": {
  "kernelspec": {
   "display_name": "Python 2",
   "language": "python",
   "name": "python2"
  },
  "language_info": {
   "codemirror_mode": {
    "name": "ipython",
    "version": 2
   },
   "file_extension": ".py",
   "mimetype": "text/x-python",
   "name": "python",
   "nbconvert_exporter": "python",
   "pygments_lexer": "ipython2",
   "version": "2.7.6"
  }
 },
 "nbformat": 4,
 "nbformat_minor": 0
}
